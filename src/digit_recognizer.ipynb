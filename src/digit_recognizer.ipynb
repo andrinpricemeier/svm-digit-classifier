{
 "cells": [
  {
   "cell_type": "code",
   "execution_count": 28,
   "metadata": {},
   "outputs": [],
   "source": [
    "import cv2\n",
    "import os\n",
    "import sys\n",
    "import numpy as np\n",
    "import sklearn\n",
    "from skimage.feature import hog\n",
    "from sklearn.svm import SVC\n",
    "from collections import Counter\n",
    "from matplotlib import pyplot as plt\n",
    "from sklearn.model_selection import train_test_split\n",
    "from sklearn.model_selection import GridSearchCV\n",
    "from sklearn.metrics import classification_report\n",
    "from joblib import dump, load"
   ]
  },
  {
   "cell_type": "code",
   "execution_count": 2,
   "metadata": {},
   "outputs": [],
   "source": [
    "def read_train_image(fullpath):\n",
    "    image  = cv2.imread(fullpath)\n",
    "    image = cv2.cvtColor(image, cv2.COLOR_BGR2GRAY)\n",
    "    return cv2.resize(image, dsize=(64, 64), interpolation=cv2.INTER_CUBIC)"
   ]
  },
  {
   "cell_type": "code",
   "execution_count": 3,
   "metadata": {},
   "outputs": [],
   "source": [
    "def load_train_images(folder):\n",
    "    samples = []\n",
    "    for file in os.listdir(folder):\n",
    "        filename = os.fsdecode(file)\n",
    "        if filename.endswith(\".png\"):\n",
    "            fullpath = folder + filename\n",
    "            image = read_train_image(fullpath)\n",
    "            samples.append(image)\n",
    "    return samples"
   ]
  },
  {
   "cell_type": "code",
   "execution_count": 4,
   "metadata": {},
   "outputs": [],
   "source": [
    "def load_digit_train_set(folder, label):\n",
    "    images = load_train_images(folder)\n",
    "    labels = np.repeat(label, len(images))\n",
    "    print(len(labels))\n",
    "    return list(zip(images, labels))"
   ]
  },
  {
   "cell_type": "code",
   "execution_count": 5,
   "metadata": {},
   "outputs": [],
   "source": [
    "def load_digits_train_set(folder):\n",
    "    entire_set = []\n",
    "    for digit in range(10):\n",
    "        digits = []\n",
    "        if digit == 0:\n",
    "            digits = load_digit_train_set(folder + \"none/\", 0)\n",
    "        else:\n",
    "            digits = load_digit_train_set(folder + f\"{digit}/\", digit)\n",
    "        entire_set.extend(digits)\n",
    "    return entire_set"
   ]
  },
  {
   "cell_type": "code",
   "execution_count": 6,
   "metadata": {},
   "outputs": [
    {
     "name": "stdout",
     "output_type": "stream",
     "text": [
      "4602\n",
      "256\n",
      "291\n",
      "290\n",
      "328\n",
      "300\n",
      "326\n",
      "324\n",
      "262\n",
      "327\n"
     ]
    }
   ],
   "source": [
    "data = load_digits_train_set(\"../data/\")"
   ]
  },
  {
   "cell_type": "code",
   "execution_count": 7,
   "metadata": {},
   "outputs": [],
   "source": [
    "X = [x[0] for x in data]\n",
    "y = [x[1] for x in data]"
   ]
  },
  {
   "cell_type": "code",
   "execution_count": 10,
   "metadata": {},
   "outputs": [
    {
     "data": {
      "image/png": "[encoded data removed]",
      "text/plain": [
       "<Figure size 432x288 with 1 Axes>"
      ]
     },
     "metadata": {
      "needs_background": "light"
     },
     "output_type": "display_data"
    }
   ],
   "source": [
    "counter = Counter(y)\n",
    "plt.bar(counter.keys(), counter.values())\n",
    "plt.show()"
   ]
  },
  {
   "cell_type": "code",
   "execution_count": 12,
   "metadata": {},
   "outputs": [],
   "source": [
    "from sklearn.utils import resample\n",
    "majority = [x for x in data if x[1] == 0]\n",
    "minority = [x for x in data if x[1] > 0]\n",
    "majority_downsampled = resample(\n",
    "    majority,\n",
    "    replace=False,\n",
    "    n_samples=len(minority) // 8,\n",
    "    random_state=42)\n",
    "\n",
    "downsampled = majority_downsampled + minority"
   ]
  },
  {
   "cell_type": "code",
   "execution_count": 13,
   "metadata": {},
   "outputs": [],
   "source": [
    "X = [x[0] for x in downsampled]\n",
    "y = [x[1] for x in downsampled]"
   ]
  },
  {
   "cell_type": "code",
   "execution_count": 14,
   "metadata": {},
   "outputs": [
    {
     "data": {
      "image/png": "[encoded data removed]",
      "text/plain": [
       "<Figure size 432x288 with 1 Axes>"
      ]
     },
     "metadata": {
      "needs_background": "light"
     },
     "output_type": "display_data"
    }
   ],
   "source": [
    "counter = Counter(y)\n",
    "plt.bar(counter.keys(), counter.values())\n",
    "plt.show()"
   ]
  },
  {
   "cell_type": "code",
   "execution_count": 16,
   "metadata": {},
   "outputs": [],
   "source": [
    "def calculate_features_hog(images):\n",
    "    return np.array([hog(image) for image in images])"
   ]
  },
  {
   "cell_type": "code",
   "execution_count": 17,
   "metadata": {},
   "outputs": [],
   "source": [
    "X_train, X_test, y_train, y_test = train_test_split(X, y, test_size=0.20, random_state=42)"
   ]
  },
  {
   "cell_type": "code",
   "execution_count": 25,
   "metadata": {},
   "outputs": [],
   "source": [
    "features_train = calculate_features_hog(X_train)\n",
    "features_test = calculate_features_hog(X_test)"
   ]
  },
  {
   "cell_type": "code",
   "execution_count": 27,
   "metadata": {},
   "outputs": [
    {
     "name": "stdout",
     "output_type": "stream",
     "text": [
      "# Tuning hyper-parameters for precision\n",
      "\n",
      "Best parameters set found on development set:\n",
      "\n",
      "{'C': 100, 'gamma': 0.001, 'kernel': 'rbf'}\n",
      "\n",
      "Grid scores on development set:\n",
      "\n",
      "0.995 (+/-0.004) for {'C': 10, 'gamma': 0.001, 'kernel': 'rbf'}\n",
      "0.980 (+/-0.008) for {'C': 10, 'gamma': 0.0001, 'kernel': 'rbf'}\n",
      "0.996 (+/-0.006) for {'C': 100, 'gamma': 0.001, 'kernel': 'rbf'}\n",
      "0.995 (+/-0.004) for {'C': 100, 'gamma': 0.0001, 'kernel': 'rbf'}\n",
      "\n",
      "Detailed classification report:\n",
      "\n",
      "The model is trained on the full development set.\n",
      "The scores are computed on the full evaluation set.\n",
      "\n",
      "              precision    recall  f1-score   support\n",
      "\n",
      "           0       0.97      0.99      0.98        77\n",
      "           1       1.00      1.00      1.00        58\n",
      "           2       1.00      1.00      1.00        60\n",
      "           3       1.00      1.00      1.00        46\n",
      "           4       0.99      1.00      0.99        67\n",
      "           5       1.00      1.00      1.00        54\n",
      "           6       1.00      1.00      1.00        71\n",
      "           7       1.00      0.96      0.98        54\n",
      "           8       1.00      1.00      1.00        53\n",
      "           9       1.00      1.00      1.00        69\n",
      "\n",
      "    accuracy                           1.00       609\n",
      "   macro avg       1.00      0.99      1.00       609\n",
      "weighted avg       1.00      1.00      1.00       609\n",
      "\n",
      "\n",
      "# Tuning hyper-parameters for recall\n",
      "\n",
      "Best parameters set found on development set:\n",
      "\n",
      "{'C': 100, 'gamma': 0.001, 'kernel': 'rbf'}\n",
      "\n",
      "Grid scores on development set:\n",
      "\n",
      "0.995 (+/-0.004) for {'C': 10, 'gamma': 0.001, 'kernel': 'rbf'}\n",
      "0.975 (+/-0.009) for {'C': 10, 'gamma': 0.0001, 'kernel': 'rbf'}\n",
      "0.996 (+/-0.006) for {'C': 100, 'gamma': 0.001, 'kernel': 'rbf'}\n",
      "0.995 (+/-0.004) for {'C': 100, 'gamma': 0.0001, 'kernel': 'rbf'}\n",
      "\n",
      "Detailed classification report:\n",
      "\n",
      "The model is trained on the full development set.\n",
      "The scores are computed on the full evaluation set.\n",
      "\n",
      "              precision    recall  f1-score   support\n",
      "\n",
      "           0       0.97      0.99      0.98        77\n",
      "           1       1.00      1.00      1.00        58\n",
      "           2       1.00      1.00      1.00        60\n",
      "           3       1.00      1.00      1.00        46\n",
      "           4       0.99      1.00      0.99        67\n",
      "           5       1.00      1.00      1.00        54\n",
      "           6       1.00      1.00      1.00        71\n",
      "           7       1.00      0.96      0.98        54\n",
      "           8       1.00      1.00      1.00        53\n",
      "           9       1.00      1.00      1.00        69\n",
      "\n",
      "    accuracy                           1.00       609\n",
      "   macro avg       1.00      0.99      1.00       609\n",
      "weighted avg       1.00      1.00      1.00       609\n",
      "\n",
      "\n"
     ]
    }
   ],
   "source": [
    "tuned_parameters = [\n",
    "    {\"kernel\": [\"rbf\"], \"gamma\": [1e-3, 1e-4], \"C\": [10, 100]}\n",
    "]\n",
    "\n",
    "scores = [\"precision\", \"recall\"]\n",
    "\n",
    "for score in scores:\n",
    "    print(\"# Tuning hyper-parameters for %s\" % score)\n",
    "    print()\n",
    "\n",
    "    clf = GridSearchCV(SVC(), tuned_parameters, scoring=\"%s_macro\" % score)\n",
    "    clf.fit(features_train, y_train)\n",
    "\n",
    "    print(\"Best parameters set found on development set:\")\n",
    "    print()\n",
    "    print(clf.best_params_)\n",
    "    print()\n",
    "    print(\"Grid scores on development set:\")\n",
    "    print()\n",
    "    means = clf.cv_results_[\"mean_test_score\"]\n",
    "    stds = clf.cv_results_[\"std_test_score\"]\n",
    "    for mean, std, params in zip(means, stds, clf.cv_results_[\"params\"]):\n",
    "        print(\"%0.3f (+/-%0.03f) for %r\" % (mean, std * 2, params))\n",
    "    print()\n",
    "\n",
    "    print(\"Detailed classification report:\")\n",
    "    print()\n",
    "    print(\"The model is trained on the full development set.\")\n",
    "    print(\"The scores are computed on the full evaluation set.\")\n",
    "    print()\n",
    "    y_true, y_pred = y_test, clf.predict(features_test)\n",
    "    print(classification_report(y_true, y_pred))\n",
    "    print()"
   ]
  },
  {
   "cell_type": "code",
   "execution_count": 29,
   "metadata": {},
   "outputs": [
    {
     "data": {
      "text/plain": [
       "SVC(C=100, gamma=0.001)"
      ]
     },
     "execution_count": 29,
     "metadata": {},
     "output_type": "execute_result"
    }
   ],
   "source": [
    "classifier = svm.SVC(C=100, kernel='rbf', gamma=0.001)\n",
    "classes = y_train\n",
    "classifier.fit(features_train, classes)"
   ]
  },
  {
   "cell_type": "code",
   "execution_count": 30,
   "metadata": {},
   "outputs": [
    {
     "data": {
      "text/plain": [
       "<sklearn.metrics._plot.confusion_matrix.ConfusionMatrixDisplay at 0x23842f73308>"
      ]
     },
     "execution_count": 30,
     "metadata": {},
     "output_type": "execute_result"
    },
    {
     "data": {
      "image/png": "[encoded data removed]",
      "text/plain": [
       "<Figure size 432x288 with 2 Axes>"
      ]
     },
     "metadata": {
      "needs_background": "light"
     },
     "output_type": "display_data"
    }
   ],
   "source": [
    "y_pred = classifier.predict(features_test)\n",
    "cm = sklearn.metrics.confusion_matrix(y_test, y_pred)\n",
    "disp = sklearn.metrics.ConfusionMatrixDisplay(cm)\n",
    "disp.plot()"
   ]
  },
  {
   "cell_type": "code",
   "execution_count": 31,
   "metadata": {},
   "outputs": [
    {
     "name": "stdout",
     "output_type": "stream",
     "text": [
      "              precision    recall  f1-score   support\n",
      "\n",
      "           0       0.97      0.99      0.98        77\n",
      "           1       1.00      1.00      1.00        58\n",
      "           2       1.00      1.00      1.00        60\n",
      "           3       1.00      1.00      1.00        46\n",
      "           4       0.99      1.00      0.99        67\n",
      "           5       1.00      1.00      1.00        54\n",
      "           6       1.00      1.00      1.00        71\n",
      "           7       1.00      0.96      0.98        54\n",
      "           8       1.00      1.00      1.00        53\n",
      "           9       1.00      1.00      1.00        69\n",
      "\n",
      "    accuracy                           1.00       609\n",
      "   macro avg       1.00      0.99      1.00       609\n",
      "weighted avg       1.00      1.00      1.00       609\n",
      "\n"
     ]
    }
   ],
   "source": [
    "print(classification_report(y_test, y_pred))"
   ]
  },
  {
   "cell_type": "code",
   "execution_count": 32,
   "metadata": {},
   "outputs": [
    {
     "data": {
      "text/plain": [
       "['../trained_models/svm.joblib']"
      ]
     },
     "execution_count": 32,
     "metadata": {},
     "output_type": "execute_result"
    }
   ],
   "source": [
    "dump(clf, '../trained_models/svm.joblib')"
   ]
  },
  {
   "cell_type": "code",
   "execution_count": 34,
   "metadata": {},
   "outputs": [],
   "source": [
    "clf = load('../trained_models/svm.joblib') "
   ]
  },
  {
   "cell_type": "code",
   "execution_count": null,
   "metadata": {},
   "outputs": [],
   "source": []
  }
 ],
 "metadata": {
  "kernelspec": {
   "display_name": "Python 3",
   "language": "python",
   "name": "python3"
  },
  "language_info": {
   "codemirror_mode": {
    "name": "ipython",
    "version": 3
   },
   "file_extension": ".py",
   "mimetype": "text/x-python",
   "name": "python",
   "nbconvert_exporter": "python",
   "pygments_lexer": "ipython3",
   "version": "3.7.9"
  }
 },
 "nbformat": 4,
 "nbformat_minor": 4
}
